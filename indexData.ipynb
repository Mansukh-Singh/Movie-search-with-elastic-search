{
 "cells": [
  {
   "cell_type": "markdown",
   "metadata": {},
   "source": [
    "## Import libraries"
   ]
  },
  {
   "cell_type": "code",
   "execution_count": 11,
   "metadata": {},
   "outputs": [],
   "source": [
    "from elasticsearch import Elasticsearch\n",
    "from sentence_transformers import SentenceTransformer\n",
    "import pandas as pd\n",
    "import ast"
   ]
  },
  {
   "cell_type": "markdown",
   "metadata": {},
   "source": [
    "## Setup Elastic search configuration"
   ]
  },
  {
   "cell_type": "code",
   "execution_count": 8,
   "metadata": {},
   "outputs": [],
   "source": [
    "es = Elasticsearch(\n",
    "    \"http://localhost:9200\"\n",
    ")"
   ]
  },
  {
   "cell_type": "code",
   "execution_count": 9,
   "metadata": {},
   "outputs": [
    {
     "data": {
      "text/plain": [
       "True"
      ]
     },
     "execution_count": 9,
     "metadata": {},
     "output_type": "execute_result"
    }
   ],
   "source": [
    "es.ping()"
   ]
  },
  {
   "cell_type": "markdown",
   "metadata": {},
   "source": [
    "## Prepare the data"
   ]
  },
  {
   "cell_type": "code",
   "execution_count": 12,
   "metadata": {},
   "outputs": [
    {
     "name": "stderr",
     "output_type": "stream",
     "text": [
      "C:\\Users\\User\\AppData\\Local\\Temp\\ipykernel_9292\\3817152956.py:8: DtypeWarning: Columns (10) have mixed types. Specify dtype option on import or set low_memory=False.\n",
      "  dataframe1 = pd.read_csv('docs/movies_metadata.csv',sep = ',')\n"
     ]
    }
   ],
   "source": [
    "def merge_details(dataframe):\n",
    "    dataframe['merge_details'] = dataframe['title'] + \" \" + dataframe['updated_genres'] + \" \" + dataframe['overview'] + \" \" +dataframe['tagline'] + \" \" +dataframe['updated_spoken_languages']\n",
    "    return dataframe\n",
    "\n",
    "def retireve_genres(items):\n",
    "    return [item['name'] for item in items] \n",
    "\n",
    "dataframe1 = pd.read_csv('docs/movies_metadata.csv',sep = ',')\n",
    "dataframe2 = pd.read_csv('docs/ratings_small.csv',sep=',')\n",
    "dataframe1['bool_id'] = dataframe1['id'].str.isdigit()\n",
    "dataframe1 = dataframe1.drop(dataframe1[dataframe1['bool_id'] == False].index,axis=0)\n",
    "dataframe1 = dataframe1.reset_index(drop=True)\n",
    "dataframe1['id'] = dataframe1['id'].apply(lambda x: int(x))\n",
    "dataframe2.rename(columns={'movieId':'id'}, inplace=True)\n",
    "merge_dataframe = pd.merge(\n",
    "    dataframe1, \n",
    "    dataframe2, \n",
    "    on='id'\n",
    ")[['id','title','rating','genres','overview','tagline','spoken_languages']].dropna().reset_index(drop=True)\n",
    "merge_dataframe['genres'] = merge_dataframe['genres'].apply(lambda x: ast.literal_eval(x))\n",
    "merge_dataframe['spoken_languages'] = merge_dataframe['spoken_languages'].apply(lambda x: ast.literal_eval(x))\n",
    "merge_dataframe['genres'] = merge_dataframe['genres'].apply(retireve_genres)\n",
    "merge_dataframe['spoken_languages'] = merge_dataframe['spoken_languages'].apply(retireve_genres)\n",
    "merge_dataframe['updated_genres'] =  merge_dataframe['genres'].apply(lambda x : ' '.join(x))\n",
    "merge_dataframe['updated_spoken_languages'] = merge_dataframe['spoken_languages'].apply(lambda x : ' '.join(x))\n",
    "final_data = merge_details(merge_dataframe)"
   ]
  },
  {
   "cell_type": "code",
   "execution_count": 47,
   "metadata": {},
   "outputs": [
    {
     "data": {
      "text/html": [
       "<div>\n",
       "<style scoped>\n",
       "    .dataframe tbody tr th:only-of-type {\n",
       "        vertical-align: middle;\n",
       "    }\n",
       "\n",
       "    .dataframe tbody tr th {\n",
       "        vertical-align: top;\n",
       "    }\n",
       "\n",
       "    .dataframe thead th {\n",
       "        text-align: right;\n",
       "    }\n",
       "</style>\n",
       "<table border=\"1\" class=\"dataframe\">\n",
       "  <thead>\n",
       "    <tr style=\"text-align: right;\">\n",
       "      <th></th>\n",
       "      <th>id</th>\n",
       "      <th>title</th>\n",
       "      <th>rating</th>\n",
       "      <th>genres</th>\n",
       "      <th>overview</th>\n",
       "      <th>tagline</th>\n",
       "      <th>spoken_languages</th>\n",
       "      <th>updated_genres</th>\n",
       "      <th>updated_spoken_languages</th>\n",
       "      <th>merge_details</th>\n",
       "    </tr>\n",
       "  </thead>\n",
       "  <tbody>\n",
       "    <tr>\n",
       "      <th>0</th>\n",
       "      <td>949</td>\n",
       "      <td>Heat</td>\n",
       "      <td>3.5</td>\n",
       "      <td>[Action, Crime, Drama, Thriller]</td>\n",
       "      <td>Obsessive master thief, Neil McCauley leads a ...</td>\n",
       "      <td>A Los Angeles Crime Saga</td>\n",
       "      <td>[English, Español]</td>\n",
       "      <td>Action Crime Drama Thriller</td>\n",
       "      <td>English Español</td>\n",
       "      <td>Heat Action Crime Drama Thriller Obsessive mas...</td>\n",
       "    </tr>\n",
       "    <tr>\n",
       "      <th>1</th>\n",
       "      <td>710</td>\n",
       "      <td>GoldenEye</td>\n",
       "      <td>1.0</td>\n",
       "      <td>[Adventure, Action, Thriller]</td>\n",
       "      <td>James Bond must unmask the mysterious head of ...</td>\n",
       "      <td>No limits. No fears. No substitutes.</td>\n",
       "      <td>[English, Pусский, Español]</td>\n",
       "      <td>Adventure Action Thriller</td>\n",
       "      <td>English Pусский Español</td>\n",
       "      <td>GoldenEye Adventure Action Thriller James Bond...</td>\n",
       "    </tr>\n",
       "    <tr>\n",
       "      <th>2</th>\n",
       "      <td>1408</td>\n",
       "      <td>Cutthroat Island</td>\n",
       "      <td>1.0</td>\n",
       "      <td>[Action, Adventure]</td>\n",
       "      <td>Morgan Adams and her slave, William Shaw, are ...</td>\n",
       "      <td>The Course Has Been Set. There Is No Turning B...</td>\n",
       "      <td>[English, Latin]</td>\n",
       "      <td>Action Adventure</td>\n",
       "      <td>English Latin</td>\n",
       "      <td>Cutthroat Island Action Adventure Morgan Adams...</td>\n",
       "    </tr>\n",
       "    <tr>\n",
       "      <th>3</th>\n",
       "      <td>524</td>\n",
       "      <td>Casino</td>\n",
       "      <td>2.0</td>\n",
       "      <td>[Drama, Crime]</td>\n",
       "      <td>The life of the gambling paradise – Las Vegas ...</td>\n",
       "      <td>No one stays at the top forever.</td>\n",
       "      <td>[English]</td>\n",
       "      <td>Drama Crime</td>\n",
       "      <td>English</td>\n",
       "      <td>Casino Drama Crime The life of the gambling pa...</td>\n",
       "    </tr>\n",
       "    <tr>\n",
       "      <th>4</th>\n",
       "      <td>4584</td>\n",
       "      <td>Sense and Sensibility</td>\n",
       "      <td>5.0</td>\n",
       "      <td>[Drama, Romance]</td>\n",
       "      <td>Rich Mr. Dashwood dies, leaving his second wif...</td>\n",
       "      <td>Lose your heart and come to your senses.</td>\n",
       "      <td>[English]</td>\n",
       "      <td>Drama Romance</td>\n",
       "      <td>English</td>\n",
       "      <td>Sense and Sensibility Drama Romance Rich Mr. D...</td>\n",
       "    </tr>\n",
       "  </tbody>\n",
       "</table>\n",
       "</div>"
      ],
      "text/plain": [
       "     id                  title  rating                            genres  \\\n",
       "0   949                   Heat     3.5  [Action, Crime, Drama, Thriller]   \n",
       "1   710              GoldenEye     1.0     [Adventure, Action, Thriller]   \n",
       "2  1408       Cutthroat Island     1.0               [Action, Adventure]   \n",
       "3   524                 Casino     2.0                    [Drama, Crime]   \n",
       "4  4584  Sense and Sensibility     5.0                  [Drama, Romance]   \n",
       "\n",
       "                                            overview  \\\n",
       "0  Obsessive master thief, Neil McCauley leads a ...   \n",
       "1  James Bond must unmask the mysterious head of ...   \n",
       "2  Morgan Adams and her slave, William Shaw, are ...   \n",
       "3  The life of the gambling paradise – Las Vegas ...   \n",
       "4  Rich Mr. Dashwood dies, leaving his second wif...   \n",
       "\n",
       "                                             tagline  \\\n",
       "0                           A Los Angeles Crime Saga   \n",
       "1               No limits. No fears. No substitutes.   \n",
       "2  The Course Has Been Set. There Is No Turning B...   \n",
       "3                   No one stays at the top forever.   \n",
       "4           Lose your heart and come to your senses.   \n",
       "\n",
       "              spoken_languages               updated_genres  \\\n",
       "0           [English, Español]  Action Crime Drama Thriller   \n",
       "1  [English, Pусский, Español]    Adventure Action Thriller   \n",
       "2             [English, Latin]             Action Adventure   \n",
       "3                    [English]                  Drama Crime   \n",
       "4                    [English]                Drama Romance   \n",
       "\n",
       "  updated_spoken_languages                                      merge_details  \n",
       "0          English Español  Heat Action Crime Drama Thriller Obsessive mas...  \n",
       "1  English Pусский Español  GoldenEye Adventure Action Thriller James Bond...  \n",
       "2            English Latin  Cutthroat Island Action Adventure Morgan Adams...  \n",
       "3                  English  Casino Drama Crime The life of the gambling pa...  \n",
       "4                  English  Sense and Sensibility Drama Romance Rich Mr. D...  "
      ]
     },
     "execution_count": 47,
     "metadata": {},
     "output_type": "execute_result"
    }
   ],
   "source": [
    "df = final_data.loc[final_data['merge_details'].drop_duplicates(keep='first').index].reset_index(drop=True)\n",
    "df.head()"
   ]
  },
  {
   "cell_type": "markdown",
   "metadata": {},
   "source": [
    "## Convert the embeddings of the fields"
   ]
  },
  {
   "cell_type": "code",
   "execution_count": 15,
   "metadata": {},
   "outputs": [
    {
     "name": "stderr",
     "output_type": "stream",
     "text": [
      ".gitattributes: 100%|██████████| 1.18k/1.18k [00:00<00:00, 588kB/s]\n",
      "1_Pooling/config.json: 100%|██████████| 190/190 [00:00<00:00, 190kB/s]\n",
      "README.md: 100%|██████████| 10.6k/10.6k [00:00<00:00, 6.75MB/s]\n",
      "config.json: 100%|██████████| 571/571 [00:00<00:00, 285kB/s]\n",
      "config_sentence_transformers.json: 100%|██████████| 116/116 [00:00<00:00, 116kB/s]\n",
      "data_config.json: 100%|██████████| 39.3k/39.3k [00:00<00:00, 188kB/s]\n",
      "pytorch_model.bin: 100%|██████████| 438M/438M [00:24<00:00, 17.5MB/s] \n",
      "sentence_bert_config.json: 100%|██████████| 53.0/53.0 [00:00<00:00, 52.2kB/s]\n",
      "special_tokens_map.json: 100%|██████████| 239/239 [00:00<00:00, 239kB/s]\n",
      "tokenizer.json: 100%|██████████| 466k/466k [00:00<00:00, 655kB/s]\n",
      "tokenizer_config.json: 100%|██████████| 363/363 [00:00<00:00, 181kB/s]\n",
      "train_script.py: 100%|██████████| 13.1k/13.1k [00:00<00:00, 13.1MB/s]\n",
      "vocab.txt: 100%|██████████| 232k/232k [00:00<00:00, 560kB/s]\n",
      "modules.json: 100%|██████████| 349/349 [00:00<00:00, 175kB/s]\n"
     ]
    }
   ],
   "source": [
    "model = SentenceTransformer(\"all-mpnet-base-v2\")"
   ]
  },
  {
   "cell_type": "code",
   "execution_count": 54,
   "metadata": {},
   "outputs": [],
   "source": [
    "df['embeddings'] = df['merge_details'].apply(lambda x: model.encode(x))"
   ]
  },
  {
   "cell_type": "code",
   "execution_count": 62,
   "metadata": {},
   "outputs": [
    {
     "data": {
      "text/html": [
       "<div>\n",
       "<style scoped>\n",
       "    .dataframe tbody tr th:only-of-type {\n",
       "        vertical-align: middle;\n",
       "    }\n",
       "\n",
       "    .dataframe tbody tr th {\n",
       "        vertical-align: top;\n",
       "    }\n",
       "\n",
       "    .dataframe thead th {\n",
       "        text-align: right;\n",
       "    }\n",
       "</style>\n",
       "<table border=\"1\" class=\"dataframe\">\n",
       "  <thead>\n",
       "    <tr style=\"text-align: right;\">\n",
       "      <th></th>\n",
       "      <th>id</th>\n",
       "      <th>title</th>\n",
       "      <th>rating</th>\n",
       "      <th>genres</th>\n",
       "      <th>overview</th>\n",
       "      <th>tagline</th>\n",
       "      <th>spoken_languages</th>\n",
       "      <th>updated_genres</th>\n",
       "      <th>updated_spoken_languages</th>\n",
       "      <th>merge_details</th>\n",
       "      <th>embeddings</th>\n",
       "    </tr>\n",
       "  </thead>\n",
       "  <tbody>\n",
       "    <tr>\n",
       "      <th>0</th>\n",
       "      <td>949</td>\n",
       "      <td>Heat</td>\n",
       "      <td>3.5</td>\n",
       "      <td>[Action, Crime, Drama, Thriller]</td>\n",
       "      <td>Obsessive master thief, Neil McCauley leads a ...</td>\n",
       "      <td>A Los Angeles Crime Saga</td>\n",
       "      <td>[English, Español]</td>\n",
       "      <td>Action Crime Drama Thriller</td>\n",
       "      <td>English Español</td>\n",
       "      <td>Heat Action Crime Drama Thriller Obsessive mas...</td>\n",
       "      <td>[-0.042521507, 0.020714978, 0.005733385, 0.023...</td>\n",
       "    </tr>\n",
       "    <tr>\n",
       "      <th>1</th>\n",
       "      <td>710</td>\n",
       "      <td>GoldenEye</td>\n",
       "      <td>1.0</td>\n",
       "      <td>[Adventure, Action, Thriller]</td>\n",
       "      <td>James Bond must unmask the mysterious head of ...</td>\n",
       "      <td>No limits. No fears. No substitutes.</td>\n",
       "      <td>[English, Pусский, Español]</td>\n",
       "      <td>Adventure Action Thriller</td>\n",
       "      <td>English Pусский Español</td>\n",
       "      <td>GoldenEye Adventure Action Thriller James Bond...</td>\n",
       "      <td>[0.0058759227, -0.025645023, 0.04358933, -0.00...</td>\n",
       "    </tr>\n",
       "    <tr>\n",
       "      <th>2</th>\n",
       "      <td>1408</td>\n",
       "      <td>Cutthroat Island</td>\n",
       "      <td>1.0</td>\n",
       "      <td>[Action, Adventure]</td>\n",
       "      <td>Morgan Adams and her slave, William Shaw, are ...</td>\n",
       "      <td>The Course Has Been Set. There Is No Turning B...</td>\n",
       "      <td>[English, Latin]</td>\n",
       "      <td>Action Adventure</td>\n",
       "      <td>English Latin</td>\n",
       "      <td>Cutthroat Island Action Adventure Morgan Adams...</td>\n",
       "      <td>[-0.04299491, 0.03970336, 0.012585637, -0.0166...</td>\n",
       "    </tr>\n",
       "    <tr>\n",
       "      <th>3</th>\n",
       "      <td>524</td>\n",
       "      <td>Casino</td>\n",
       "      <td>2.0</td>\n",
       "      <td>[Drama, Crime]</td>\n",
       "      <td>The life of the gambling paradise – Las Vegas ...</td>\n",
       "      <td>No one stays at the top forever.</td>\n",
       "      <td>[English]</td>\n",
       "      <td>Drama Crime</td>\n",
       "      <td>English</td>\n",
       "      <td>Casino Drama Crime The life of the gambling pa...</td>\n",
       "      <td>[-0.02989307, 0.06692077, 0.009279962, 0.02446...</td>\n",
       "    </tr>\n",
       "    <tr>\n",
       "      <th>4</th>\n",
       "      <td>4584</td>\n",
       "      <td>Sense and Sensibility</td>\n",
       "      <td>5.0</td>\n",
       "      <td>[Drama, Romance]</td>\n",
       "      <td>Rich Mr. Dashwood dies, leaving his second wif...</td>\n",
       "      <td>Lose your heart and come to your senses.</td>\n",
       "      <td>[English]</td>\n",
       "      <td>Drama Romance</td>\n",
       "      <td>English</td>\n",
       "      <td>Sense and Sensibility Drama Romance Rich Mr. D...</td>\n",
       "      <td>[-0.023869524, -0.047999404, -0.009230304, 0.0...</td>\n",
       "    </tr>\n",
       "  </tbody>\n",
       "</table>\n",
       "</div>"
      ],
      "text/plain": [
       "     id                  title  rating                            genres  \\\n",
       "0   949                   Heat     3.5  [Action, Crime, Drama, Thriller]   \n",
       "1   710              GoldenEye     1.0     [Adventure, Action, Thriller]   \n",
       "2  1408       Cutthroat Island     1.0               [Action, Adventure]   \n",
       "3   524                 Casino     2.0                    [Drama, Crime]   \n",
       "4  4584  Sense and Sensibility     5.0                  [Drama, Romance]   \n",
       "\n",
       "                                            overview  \\\n",
       "0  Obsessive master thief, Neil McCauley leads a ...   \n",
       "1  James Bond must unmask the mysterious head of ...   \n",
       "2  Morgan Adams and her slave, William Shaw, are ...   \n",
       "3  The life of the gambling paradise – Las Vegas ...   \n",
       "4  Rich Mr. Dashwood dies, leaving his second wif...   \n",
       "\n",
       "                                             tagline  \\\n",
       "0                           A Los Angeles Crime Saga   \n",
       "1               No limits. No fears. No substitutes.   \n",
       "2  The Course Has Been Set. There Is No Turning B...   \n",
       "3                   No one stays at the top forever.   \n",
       "4           Lose your heart and come to your senses.   \n",
       "\n",
       "              spoken_languages               updated_genres  \\\n",
       "0           [English, Español]  Action Crime Drama Thriller   \n",
       "1  [English, Pусский, Español]    Adventure Action Thriller   \n",
       "2             [English, Latin]             Action Adventure   \n",
       "3                    [English]                  Drama Crime   \n",
       "4                    [English]                Drama Romance   \n",
       "\n",
       "  updated_spoken_languages                                      merge_details  \\\n",
       "0          English Español  Heat Action Crime Drama Thriller Obsessive mas...   \n",
       "1  English Pусский Español  GoldenEye Adventure Action Thriller James Bond...   \n",
       "2            English Latin  Cutthroat Island Action Adventure Morgan Adams...   \n",
       "3                  English  Casino Drama Crime The life of the gambling pa...   \n",
       "4                  English  Sense and Sensibility Drama Romance Rich Mr. D...   \n",
       "\n",
       "                                          embeddings  \n",
       "0  [-0.042521507, 0.020714978, 0.005733385, 0.023...  \n",
       "1  [0.0058759227, -0.025645023, 0.04358933, -0.00...  \n",
       "2  [-0.04299491, 0.03970336, 0.012585637, -0.0166...  \n",
       "3  [-0.02989307, 0.06692077, 0.009279962, 0.02446...  \n",
       "4  [-0.023869524, -0.047999404, -0.009230304, 0.0...  "
      ]
     },
     "execution_count": 62,
     "metadata": {},
     "output_type": "execute_result"
    }
   ],
   "source": [
    "df.head()"
   ]
  },
  {
   "cell_type": "code",
   "execution_count": null,
   "metadata": {},
   "outputs": [],
   "source": [
    "from indexMapping import indexMapping\n",
    "\n",
    "es.indices.create(index=\"elastic-demo\", body=indexMapping)"
   ]
  }
 ],
 "metadata": {
  "kernelspec": {
   "display_name": "Python 3.11.5 ('env': venv)",
   "language": "python",
   "name": "python3"
  },
  "language_info": {
   "codemirror_mode": {
    "name": "ipython",
    "version": 3
   },
   "file_extension": ".py",
   "mimetype": "text/x-python",
   "name": "python",
   "nbconvert_exporter": "python",
   "pygments_lexer": "ipython3",
   "version": "3.11.5"
  },
  "orig_nbformat": 4,
  "vscode": {
   "interpreter": {
    "hash": "45df363e56e03cdafe46aeb3b591fb37042f626ce99c41f765ecf68e94c016d5"
   }
  }
 },
 "nbformat": 4,
 "nbformat_minor": 2
}
